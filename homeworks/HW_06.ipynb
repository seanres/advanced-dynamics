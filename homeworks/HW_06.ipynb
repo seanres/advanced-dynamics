{
 "cells": [
  {
   "cell_type": "code",
   "execution_count": 24,
   "metadata": {},
   "outputs": [],
   "source": [
    "import numpy as np\n",
    "from scipy.linalg import *"
   ]
  },
  {
   "cell_type": "markdown",
   "metadata": {},
   "source": [
    "# Homework #6\n",
    "## Linear Algebra for Dynamics\n",
    "\n",
    "Equations of motion in Newtonian ($F=ma$) or Lagrangian\n",
    "($\\frac{d}{dt}\\left(\\frac{\\partial L}{\\partial\n",
    "\\dot{x}_{i}}\\right)-\\frac{\\partial L}{\\partial x_i} = F_i$) are solved\n",
    "with Linear Algebra equations. Specifically, the equations are a\n",
    "combination of differential and algebraic equations. Integrating the\n",
    "differential equations numerically is done with discrete steps, which creates\n",
    "another linear algebra problem. \n",
    "\n",
    "There are two main linear algebra problems that we are concerned with\n",
    "here\n",
    "\n",
    "1. $\\mathbf{Ax}=\\mathbf{b}$ \n",
    "2. $\\mathbf{Ax}=\\lambda \\mathbf{Bx}$\n",
    "\n",
    "Take the following matrix, saved as array `A`:"
   ]
  },
  {
   "cell_type": "code",
   "execution_count": 25,
   "metadata": {},
   "outputs": [
    {
     "data": {
      "text/plain": [
       "array([[ 1,  2,  3],\n",
       "       [ 4,  5,  6],\n",
       "       [ 7,  8,  9],\n",
       "       [10, 11, 12]])"
      ]
     },
     "execution_count": 25,
     "metadata": {},
     "output_type": "execute_result"
    }
   ],
   "source": [
    "A=np.array([[1,2,3],[4,5,6],[7,8,9],[10,11,12]])\n",
    "A"
   ]
  },
  {
   "cell_type": "markdown",
   "metadata": {},
   "source": [
    "A is an $m \\times n$ matrix where m=4 rows and n=3 columns"
   ]
  },
  {
   "cell_type": "code",
   "execution_count": 26,
   "metadata": {},
   "outputs": [
    {
     "data": {
      "text/plain": [
       "(4, 3)"
      ]
     },
     "execution_count": 26,
     "metadata": {},
     "output_type": "execute_result"
    }
   ],
   "source": [
    "np.shape(A)"
   ]
  },
  {
   "cell_type": "markdown",
   "metadata": {},
   "source": [
    "The tranpose of A is $3\\times 4$"
   ]
  },
  {
   "cell_type": "code",
   "execution_count": 27,
   "metadata": {},
   "outputs": [
    {
     "data": {
      "text/plain": [
       "array([[ 1,  4,  7, 10],\n",
       "       [ 2,  5,  8, 11],\n",
       "       [ 3,  6,  9, 12]])"
      ]
     },
     "execution_count": 27,
     "metadata": {},
     "output_type": "execute_result"
    }
   ],
   "source": [
    "A.T # <array>.T is the numpy method to transpose an array, for our purposes array == matrix"
   ]
  },
  {
   "cell_type": "markdown",
   "metadata": {},
   "source": [
    "## Problem 1\n",
    "\n",
    "Try making an array that is 2 rows $\\times$ 3 columns. Then take its transpose so it is 3 rows $\\times$ 2 columns"
   ]
  },
  {
   "cell_type": "code",
   "execution_count": 28,
   "metadata": {},
   "outputs": [
    {
     "name": "stdout",
     "output_type": "stream",
     "text": [
      "[[1 2 3]\n",
      " [4 5 6]]\n",
      "[[1 4]\n",
      " [2 5]\n",
      " [3 6]]\n"
     ]
    }
   ],
   "source": [
    "B = np.array([[1, 2, 3], [4, 5, 6]])\n",
    "print(B)\n",
    "\n",
    "print(B.T)"
   ]
  },
  {
   "cell_type": "markdown",
   "metadata": {
    "slideshow": {
     "slide_type": "fragment"
    }
   },
   "source": [
    "## Matrices and vectors are sets of linear equations\n",
    "\n",
    "Representation of linear equations:\n",
    "\n",
    "1. $5x_{1}+3x_{2} =1$\n",
    "\n",
    "2. $x_{1}+2x_{2}+3x_{3} =2$\n",
    "\n",
    "3. $x_{1}+x_{2}+x_{3} =3$\n",
    "\n",
    "in matrix form:\n",
    "\n",
    "$\\left[ \\begin{array}{ccc}\n",
    "5 & 3 & 0 \\\\\n",
    "1 & 2 & 3 \\\\\n",
    "1 & 1 & 1 \\end{array} \\right]\n",
    "\\left[\\begin{array}{c} \n",
    "x_{1} \\\\ \n",
    "x_{2} \\\\\n",
    "x_{3}\\end{array}\\right]=\\left[\\begin{array}{c} \n",
    "1 \\\\\n",
    "2 \\\\\n",
    "3\\end{array}\\right]$\n",
    "\n",
    "$Ax=b$"
   ]
  },
  {
   "cell_type": "markdown",
   "metadata": {
    "slideshow": {
     "slide_type": "slide"
    }
   },
   "source": [
    "### Vectors "
   ]
  },
  {
   "cell_type": "markdown",
   "metadata": {
    "slideshow": {
     "slide_type": "subslide"
    }
   },
   "source": [
    "column vector x (length of 3):\n",
    "\n",
    "$\\left[\\begin{array}{c} \n",
    "x_{1} \\\\ \n",
    "x_{2} \\\\\n",
    "x_{3}\\end{array}\\right]$\n",
    "\n",
    "row vector y (length of 3):\n",
    "\n",
    "$\\left[ y_{1} y_{2} y_{3} \\right]$\n",
    "\n",
    "vector of length N:\n",
    "\n",
    "$\\left[\\begin{array}{c} \n",
    "x_{1} \\\\ \n",
    "x_{2} \\\\\n",
    "\\vdots  \\\\\n",
    "x_{N}\\end{array}\\right]$\n",
    "\n",
    "The $i^{th}$ element of x is $x_{i}$"
   ]
  },
  {
   "cell_type": "markdown",
   "metadata": {
    "slideshow": {
     "slide_type": "slide"
    }
   },
   "source": [
    "### Matrices"
   ]
  },
  {
   "cell_type": "markdown",
   "metadata": {
    "slideshow": {
     "slide_type": "fragment"
    }
   },
   "source": [
    "elements in the matrix are denoted $B_{row~column}$\n",
    "\n",
    "In general, matrix, B, can be any size, $M \\times N$ (M-rows and N-columns):\n",
    "\n",
    "$B=\\left[ \\begin{array}{cccc}\n",
    "B_{11} & B_{12} &...& B_{1N} \\\\\n",
    "B_{21} & B_{22} &...& B_{2N} \\\\\n",
    "\\vdots & \\vdots &\\ddots& \\vdots \\\\\n",
    "B_{M1} & B_{M2} &...& B_{MN}\\end{array} \\right]$"
   ]
  },
  {
   "cell_type": "markdown",
   "metadata": {
    "slideshow": {
     "slide_type": "slide"
    }
   },
   "source": [
    "## Multiplication"
   ]
  },
  {
   "cell_type": "markdown",
   "metadata": {
    "slideshow": {
     "slide_type": "fragment"
    }
   },
   "source": [
    "A column vector is a $1\\times N$ matrix and a row vector is a $M\\times 1$ matrix\n",
    "\n",
    "**Multiplying matrices is not commutative**\n",
    "\n",
    "$A B \\neq B A$\n",
    "\n",
    "Inner dimensions must agree, output is outer dimensions. \n",
    "\n",
    "A is $M1 \\times N1$ and B is $M2 \\times N2$\n",
    "\n",
    "C=AB\n",
    "\n",
    "Therefore N1=M2 and C is $M1 \\times N2$\n",
    "\n",
    "If $C'=BA$, then N2=M1 and C is $M2 \\times N1$"
   ]
  },
  {
   "cell_type": "markdown",
   "metadata": {
    "slideshow": {
     "slide_type": "subslide"
    }
   },
   "source": [
    "e.g. \n",
    "$A=\\left[ \\begin{array}{cc}\n",
    "5 & 3 & 0 \\\\\n",
    "1 & 2 & 3  \\end{array} \\right]$\n",
    "\n",
    "$B=\\left[ \\begin{array}{cccc}\n",
    "1 & 2 & 3 & 4 \\\\\n",
    "5 & 6 & 7 & 8 \\\\\n",
    "9 & 10 & 11 & 12 \\end{array} \\right]$\n",
    "\n",
    "C=AB\n",
    "\n",
    "$[2\\times 4] = [2 \\times 3][3 \\times 4]$"
   ]
  },
  {
   "cell_type": "markdown",
   "metadata": {
    "slideshow": {
     "slide_type": "subslide"
    }
   },
   "source": [
    "The rule for multiplying matrices, A and B, is\n",
    "\n",
    "$C_{ij} = \\sum_{k=1}^{n}A_{ik}B_{kj}$\n",
    "\n",
    "In the previous example, \n",
    "\n",
    "$C_{11} = A_{11}B_{11}+A_{12}B_{21}+A_{13}B_{31} = 5*1+3*5+0*9=20$\n",
    "\n",
    "\n",
    "Multiplication is associative:\n",
    "\n",
    "$(AB)C = A(BC)$\n",
    "\n",
    "and distributive:\n",
    "\n",
    "$A(B+C)=AB+AC$\n",
    "\n",
    "*Note: You can multiply matrices in Python with `@`*"
   ]
  },
  {
   "cell_type": "code",
   "execution_count": 29,
   "metadata": {},
   "outputs": [
    {
     "data": {
      "text/plain": [
       "array([[20, 28, 36, 44],\n",
       "       [38, 44, 50, 56]])"
      ]
     },
     "execution_count": 29,
     "metadata": {},
     "output_type": "execute_result"
    }
   ],
   "source": [
    "A=np.array([[5,3,0],[1,2,3]]) \n",
    "B=np.array([[1,2,3,4],[5,6,7,8],[9,10,11,12]])\n",
    "C=A@B # multiply AB\n",
    "C"
   ]
  },
  {
   "cell_type": "code",
   "execution_count": 30,
   "metadata": {},
   "outputs": [],
   "source": [
    "# B@A"
   ]
  },
  {
   "cell_type": "markdown",
   "metadata": {},
   "source": [
    "## Problem 2\n",
    "\n",
    "Given:\n",
    "\n",
    "$A=\\left[ \\begin{array}{cc}\n",
    "5 & 3 \\\\\n",
    "1 & 2 \\end{array} \\right]$\n",
    "\n",
    "$B=\\left[ \\begin{array}{cc}\n",
    "1 & 2 \\\\\n",
    "5 & 6 \\end{array} \\right]$\n",
    "\n",
    "$C=\\left[ \\begin{array}{cc}\n",
    "11 & 5 \\\\\n",
    "5 & 4 \\end{array} \\right]$\n",
    "\n",
    "Calculate $D1=A(B+C)$ and $D2=AB+AC$. Are they equal?"
   ]
  },
  {
   "cell_type": "code",
   "execution_count": 31,
   "metadata": {},
   "outputs": [
    {
     "data": {
      "text/plain": [
       "array([[ True,  True],\n",
       "       [ True,  True]])"
      ]
     },
     "execution_count": 31,
     "metadata": {},
     "output_type": "execute_result"
    }
   ],
   "source": [
    "A=np.array([[5,3],[1,2]])\n",
    "B=np.array([[1,2],[5,6]])\n",
    "C=np.array([[11,5],[5,4]])\n",
    "D1=A@(B+C) # replace with your algebra\n",
    "D2=A@B + A@C # replace with your algebra\n",
    "\n",
    "D1 == D2\n"
   ]
  },
  {
   "cell_type": "markdown",
   "metadata": {},
   "source": [
    "## Differentiation\n",
    "\n",
    "In many applications in mechanics, scalar and vector functions that depend on one or more variables are encountered. An example of a scalar function that depends on the system velocities and possibly on the system coordinates is the kinetic energy. Examples of vector functions are the coordinates, velocities, and accelerations that depend on time. Let us first consider a scalar function f that depends on several variables q1, q2, ... , and qn and the parameter t, such that\n",
    "\n",
    "![](https://learning.oreilly.com/library/view/computational-dynamics-3rd/9780470686157/figs/UEQ260.png)\n",
    "\n",
    "The total derivative $df/dt$ becomes\n",
    "\n",
    "![](https://learning.oreilly.com/library/view/computational-dynamics-3rd/9780470686157/figs/UEQ261.png)\n",
    "\n",
    "![](https://learning.oreilly.com/library/view/computational-dynamics-3rd/9780470686157/figs/UEQ263.png)\n",
    "\n",
    "Where $\\frac{\\partial f}{\\partial \\mathbf{q}}$ can be rewritten as\n",
    "\n",
    "![](https://learning.oreilly.com/library/view/computational-dynamics-3rd/9780470686157/figs/UEQ264.png)"
   ]
  },
  {
   "cell_type": "code",
   "execution_count": 32,
   "metadata": {},
   "outputs": [
    {
     "name": "stdout",
     "output_type": "stream",
     "text": [
      "upper triangular matrix, U:\n",
      "[[1 2 3]\n",
      " [0 4 5]\n",
      " [0 0 6]]\n",
      "lower triangular matrix, L:\n",
      "[[1 0 0]\n",
      " [2 3 0]\n",
      " [4 5 6]]\n",
      "diagonal matrix, D:\n",
      "[[1 0 0]\n",
      " [0 2 0]\n",
      " [0 0 3]]\n"
     ]
    }
   ],
   "source": [
    "U=np.array([[1,2,3],[0,4,5],[0,0,6]])\n",
    "L=np.array([[1,0,0],[2,3,0],[4,5,6]])\n",
    "D=np.diag([1,2,3])\n",
    "print('upper triangular matrix, U:')\n",
    "print(U)\n",
    "print('lower triangular matrix, L:')\n",
    "print(L)\n",
    "print('diagonal matrix, D:')\n",
    "print(D)"
   ]
  },
  {
   "cell_type": "markdown",
   "metadata": {},
   "source": [
    "## Problem 3\n",
    "Make a function that returns the partial derivative of $f(q_1,q_2,q_3,t)$ with respect to $\\mathbf{q}$\n",
    "\n",
    "$\\frac{\\partial f}{\\partial \\mathbf{q}}$\n",
    "\n",
    "![](https://learning.oreilly.com/library/view/computational-dynamics-3rd/9780470686157/figs/U02180.png)"
   ]
  },
  {
   "cell_type": "code",
   "execution_count": 33,
   "metadata": {},
   "outputs": [],
   "source": [
    "def dfdq(q1,q2,q3,t):\n",
    "    # your work\n",
    "    df = np.array([q3, -6*q2, q1])\n",
    "    return df"
   ]
  },
  {
   "cell_type": "markdown",
   "metadata": {},
   "source": [
    "Use your function `dfdq` to create a function that returns the total derivative of $f(q_1,q_2,q_3,t)$ with respect to $t$\n",
    "\n",
    "if $q_1(t) = 2t$, $q_2(t) = 5t$, and $q_3(t) = t^2$"
   ]
  },
  {
   "cell_type": "code",
   "execution_count": 34,
   "metadata": {},
   "outputs": [
    {
     "data": {
      "text/plain": [
       "array([  12, -140,   14])"
      ]
     },
     "execution_count": 34,
     "metadata": {},
     "output_type": "execute_result"
    }
   ],
   "source": [
    "def dfdt(q1,q2,q3,t):\n",
    "    df=dfdq(q1,q2,q3,t)\n",
    "    dfdt = df*np.array([2, 5, 2*t]) + 10*t\n",
    "    return dfdt\n",
    "t = 1\n",
    "q1 = 2*t\n",
    "q2 = 5*t\n",
    "q3 = t**2\n",
    "\n",
    "dfdt(q1, q2, q3, t)"
   ]
  },
  {
   "cell_type": "markdown",
   "metadata": {},
   "source": [
    "For a number of functions, $f_1$...$f_n$\n",
    "\n",
    "![](https://learning.oreilly.com/library/view/computational-dynamics-3rd/9780470686157/figs/UEQ265.png)\n",
    "\n",
    "The total derivative is a similar form\n",
    "\n",
    "![](https://learning.oreilly.com/library/view/computational-dynamics-3rd/9780470686157/figs/UEQ268.png)\n",
    "\n",
    "or\n",
    "\n",
    "![](https://learning.oreilly.com/library/view/computational-dynamics-3rd/9780470686157/figs/UEQ270.png)"
   ]
  },
  {
   "cell_type": "markdown",
   "metadata": {},
   "source": [
    "## Problem 4\n",
    "\n",
    "Create a function that returns $\\frac{\\partial \\mathbf{f}}{\\partial\\mathbf{q}}$ where $\\mathbf{f}$ is defined as\n",
    "\n",
    "![](https://learning.oreilly.com/library/view/computational-dynamics-3rd/9780470686157/figs/U02182.png)"
   ]
  },
  {
   "cell_type": "code",
   "execution_count": 35,
   "metadata": {},
   "outputs": [],
   "source": [
    "def dfdq2(q,t):\n",
    "    '''Here q=[q1,q2,q3] and t = time'''\n",
    "    # your work here\n",
    "    f1 = np.array([2*q[0], 6*q[1], 0, -15*q[3]**2])\n",
    "    f2 = np.array([0, 2*q[1], -2*q[2], 0])\n",
    "    f3 = np.array([q[3], q[2], q[1], q[0]])\n",
    "\n",
    "    df = np.array([f1, f2, f3])\n",
    "\n",
    "    return df"
   ]
  },
  {
   "cell_type": "markdown",
   "metadata": {},
   "source": [
    "Use your `dfdq2` to calculate $\\frac{\\partial \\mathbf{f}}{\\partial\\mathbf{q}}$ when \n",
    "\n",
    "q=[1,3,5], and t=3"
   ]
  },
  {
   "cell_type": "code",
   "execution_count": 36,
   "metadata": {},
   "outputs": [
    {
     "data": {
      "text/plain": [
       "array([[  2,  18,   0, -15],\n",
       "       [  0,   6, -10,   0],\n",
       "       [  1,   5,   3,   1]])"
      ]
     },
     "execution_count": 36,
     "metadata": {},
     "output_type": "execute_result"
    }
   ],
   "source": [
    "q=np.array([1,3,5, 1])\n",
    "t=3\n",
    "dfdq2(q,t)"
   ]
  },
  {
   "cell_type": "markdown",
   "metadata": {
    "slideshow": {
     "slide_type": "slide"
    }
   },
   "source": [
    "## Inverse of matrices\n",
    "\n",
    "The inverse of a square matrix, $A^{-1}$ is defined such that\n",
    "\n",
    "$A^{-1}A=I=AA^{-1}$\n",
    "\n",
    "Not all square matrices have an inverse, they can be *singular* or *non-invertible*\n",
    "\n",
    "The inverse has the following properties:\n",
    "\n",
    "1. $(A^{-1})^{-1}=A$\n",
    "\n",
    "2. $(AB)^{-1}=B^{-1}A^{-1}$\n",
    "\n",
    "3. $(A^{-1})^{T}=(A^{T})^{-1}$"
   ]
  },
  {
   "cell_type": "code",
   "execution_count": 37,
   "metadata": {
    "collapsed": false,
    "jupyter": {
     "outputs_hidden": false
    },
    "slideshow": {
     "slide_type": "slide"
    }
   },
   "outputs": [
    {
     "data": {
      "text/plain": [
       "array([[0.68593578, 0.88935458, 0.49059219],\n",
       "       [0.06491161, 0.67814298, 0.02589029],\n",
       "       [0.97760485, 0.22243549, 0.7983029 ]])"
      ]
     },
     "execution_count": 37,
     "metadata": {},
     "output_type": "execute_result"
    }
   ],
   "source": [
    "A=np.random.rand(3,3)\n",
    "A"
   ]
  },
  {
   "cell_type": "code",
   "execution_count": 38,
   "metadata": {
    "collapsed": false,
    "jupyter": {
     "outputs_hidden": false
    },
    "slideshow": {
     "slide_type": "fragment"
    }
   },
   "outputs": [
    {
     "data": {
      "text/plain": [
       "array([[0.68593578, 0.88935458, 0.49059219],\n",
       "       [0.06491161, 0.67814298, 0.02589029],\n",
       "       [0.97760485, 0.22243549, 0.7983029 ]])"
      ]
     },
     "execution_count": 38,
     "metadata": {},
     "output_type": "execute_result"
    }
   ],
   "source": [
    "Ainv=inv(A)\n",
    "inv(Ainv)"
   ]
  },
  {
   "cell_type": "code",
   "execution_count": 39,
   "metadata": {
    "collapsed": false,
    "jupyter": {
     "outputs_hidden": false
    },
    "slideshow": {
     "slide_type": "subslide"
    }
   },
   "outputs": [],
   "source": [
    "B=np.random.rand(3,3)"
   ]
  },
  {
   "cell_type": "code",
   "execution_count": 40,
   "metadata": {
    "collapsed": false,
    "jupyter": {
     "outputs_hidden": false
    },
    "slideshow": {
     "slide_type": "subslide"
    }
   },
   "outputs": [
    {
     "name": "stdout",
     "output_type": "stream",
     "text": [
      "[[ -910.85576952  1030.72681536   549.61954022]\n",
      " [-1497.46823818  1701.00850236   901.62930481]\n",
      " [ 1957.04544874 -2219.25871035 -1178.75441687]]\n",
      "==\n",
      "[[ -910.85576952  1030.72681536   549.61954022]\n",
      " [-1497.46823818  1701.00850236   901.62930481]\n",
      " [ 1957.04544874 -2219.25871035 -1178.75441687]]\n"
     ]
    },
    {
     "data": {
      "text/plain": [
       "array([[ 20.87534666,  -1.03318244, -25.27614976],\n",
       "       [-23.41827567,   2.6495101 ,  27.93986436],\n",
       "       [-12.06932368,   0.54900796,  15.87982517]])"
      ]
     },
     "execution_count": 40,
     "metadata": {},
     "output_type": "execute_result"
    }
   ],
   "source": [
    "print(inv(np.dot(A,B)))\n",
    "print('==')\n",
    "print(np.dot(inv(B),inv(A)))\n",
    "\n",
    "inv(A.T)\n",
    "\n",
    "inv(A).T"
   ]
  },
  {
   "cell_type": "markdown",
   "metadata": {
    "slideshow": {
     "slide_type": "slide"
    }
   },
   "source": [
    "### Orthogonal Matrices\n",
    "\n",
    "Vectors are *orthogonal* if $x^{T}$ y=0, and a vector is *normalized* if $||x||_{2}=1$. A\n",
    "square matrix is *orthogonal* if all its column vectors are orthogonal to each other and\n",
    "normalized. The column vectors are then called *orthonormal* and the following results\n",
    "\n",
    "$U^{T}U=I=UU^{T}$\n",
    "\n",
    "and \n",
    "\n",
    "$||Ux||_{2}=||x||_{2}$"
   ]
  },
  {
   "cell_type": "markdown",
   "metadata": {
    "slideshow": {
     "slide_type": "slide"
    }
   },
   "source": [
    "### Determinant\n",
    "\n",
    "The **determinant** of a matrix has 3 properties\n",
    "\n",
    "1\\. The determinant of the identity matrix is one, $|I|=1$\n",
    "\n",
    "2\\. If you multiply a single row by scalar $t$ then the determinant is $t|A|$:\n",
    "\n",
    "$t|A|=\\left[ \\begin{array}{cccc}\n",
    "tA_{11} & tA_{12} &...& tA_{1N} \\\\\n",
    "A_{21} & A_{22} &...& A_{2N} \\\\\n",
    "\\vdots & \\vdots &\\ddots& \\vdots \\\\\n",
    "A_{M1} & A_{M2} &...& A_{MN}\\end{array} \\right]$"
   ]
  },
  {
   "cell_type": "markdown",
   "metadata": {
    "slideshow": {
     "slide_type": "subslide"
    }
   },
   "source": [
    "## Determinant (con'd)\n",
    "3\\. If you switch 2 rows, the determinant changes sign:\n",
    "$-|A|=\\left[ \\begin{array}{cccc}\n",
    "A_{21} & A_{22} &...& A_{2N} \\\\\n",
    "A_{11} & A_{12} &...& A_{1N} \\\\\n",
    "\\vdots & \\vdots &\\ddots& \\vdots \\\\\n",
    "A_{M1} & A_{M2} &...& A_{MN}\\end{array} \\right]$"
   ]
  },
  {
   "cell_type": "markdown",
   "metadata": {
    "slideshow": {
     "slide_type": "subslide"
    }
   },
   "source": [
    "## Determinant (con'd)\n",
    "4\\. inverse of the determinant is the determinant of the inverse:\n",
    "\n",
    "$|A^{-1}|=\\frac{1}{|A|}=|A|^{-1}$"
   ]
  },
  {
   "cell_type": "markdown",
   "metadata": {
    "slideshow": {
     "slide_type": "subslide"
    }
   },
   "source": [
    "## Calculating the Determinant\n",
    "For a $2\\times2$ matrix, \n",
    "\n",
    "$|A|=\\left|\\left[ \\begin{array}{cc}\n",
    "A_{11} & A_{12} \\\\\n",
    "A_{21} & A_{22} \\\\\n",
    "\\end{array} \\right]\\right| = A_{11}A_{22}-A_{21}A_{12}$\n",
    "\n",
    "For a $3\\times3$ matrix,\n",
    "\n",
    "$|A|=\\left|\\left[ \\begin{array}{ccc}\n",
    "A_{11} & A_{12} & A_{13} \\\\\n",
    "A_{21} & A_{22} & A_{23} \\\\\n",
    "A_{31} & A_{32} & A_{33}\\end{array} \\right]\\right|=$\n",
    "\n",
    "$A_{11}A_{22}A_{33}+A_{12}A_{23}A_{31}+A_{13}A_{21}A_{32}\n",
    "-A_{31}A_{22}A_{13}-A_{32}A_{23}A_{11}-A_{33}A_{21}A_{12}$"
   ]
  },
  {
   "cell_type": "markdown",
   "metadata": {
    "slideshow": {
     "slide_type": "fragment"
    }
   },
   "source": [
    "For larger matrices, the determinant is more involved"
   ]
  },
  {
   "cell_type": "markdown",
   "metadata": {
    "slideshow": {
     "slide_type": "slide"
    }
   },
   "source": [
    "### Special Case for determinants\n",
    "\n",
    "The determinant of a diagonal matrix $|D|=D_{11}D_{22}D_{33}...D_{NN}$. \n",
    "\n",
    "Similarly, if a matrix is upper triangular (so all values of $A_{ij}=0$ when $j<i$), the\n",
    "determinant is \n",
    "\n",
    "$|A|=\\left|\\left[ \\begin{array}{cccc}\n",
    "A_{11} & A_{12} &...& A_{1N} \\\\\n",
    "0 & A_{22} &...& A_{2N} \\\\\n",
    "0 & 0 &\\ddots & \\vdots \\\\\n",
    "0 & 0 &...& A_{NN}\\end{array} \\right]\\right|=A_{11}A_{22}A_{33}...A_{NN}$"
   ]
  },
  {
   "cell_type": "markdown",
   "metadata": {},
   "source": [
    "![eqn](https://learning.oreilly.com/library/view/computational-dynamics-3rd/9780470686157/figs/UEQ212.png)"
   ]
  },
  {
   "cell_type": "markdown",
   "metadata": {},
   "source": [
    "## Problem 5\n",
    "\n",
    "Find the sum $A+B$, the determinants, $|A|$ and $|B|$,  trace\\($A$\\), and trace\\($B$\\)\n",
    "\n",
    "![](https://learning.oreilly.com/library/view/computational-dynamics-3rd/9780470686157/figs/U02173.png)"
   ]
  },
  {
   "cell_type": "code",
   "execution_count": 41,
   "metadata": {},
   "outputs": [
    {
     "name": "stdout",
     "output_type": "stream",
     "text": [
      "[[ -3.    8.  -20.5]\n",
      " [  5.   11.   13. ]\n",
      " [  7.   20.    0. ]]\n",
      "[[  0.    3.2   0. ]\n",
      " [-17.5   5.7   0. ]\n",
      " [ 12.    6.8 -10. ]]\n",
      "[[ -3.   11.2 -20.5]\n",
      " [-12.5  16.7  13. ]\n",
      " [ 19.   26.8 -10. ]]\n",
      "1036.4999999999995\n",
      "-560.0000000000003 1\n",
      "8.0\n",
      "-4.3\n"
     ]
    }
   ],
   "source": [
    "print(A:= np.array([[-3, 8, -20.5],\n",
    "                    [5, 11, 13],\n",
    "                    [7, 20, 0]]))\n",
    "print(B:= np.array([[0, 3.2, 0],\n",
    "                    [-17.5, 5.7, 0],\n",
    "                    [12, 6.8, -10]]))\n",
    "\n",
    "print(sum:= A+B)\n",
    "\n",
    "print(np.linalg.det(A))\n",
    "print(np.linalg.det(B), 1)\n",
    "print(np.trace(A))\n",
    "print(np.trace(B))\n"
   ]
  },
  {
   "cell_type": "code",
   "execution_count": null,
   "metadata": {},
   "outputs": [],
   "source": []
  }
 ],
 "metadata": {
  "kernelspec": {
   "display_name": "Python 3.9.0 64-bit",
   "language": "python",
   "name": "python3"
  },
  "language_info": {
   "codemirror_mode": {
    "name": "ipython",
    "version": 3
   },
   "file_extension": ".py",
   "mimetype": "text/x-python",
   "name": "python",
   "nbconvert_exporter": "python",
   "pygments_lexer": "ipython3",
   "version": "3.9.0"
  },
  "vscode": {
   "interpreter": {
    "hash": "967fc193b3f5c80a6afb13ff7c568801143a5d26fe7e349631bad703b53dfca9"
   }
  }
 },
 "nbformat": 4,
 "nbformat_minor": 4
}
